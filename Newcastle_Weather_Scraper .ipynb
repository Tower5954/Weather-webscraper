{
 "cells": [
  {
   "cell_type": "code",
   "execution_count": 24,
   "metadata": {},
   "outputs": [
    {
     "name": "stdout",
     "output_type": "stream",
     "text": [
      "[{'When': 'Tonight', 'Temp': '7°', 'Summary': 'Mostly cloudy this evening and overnight, with the change of the odd spot of rain creeping in off the North Sea. A chilly night, with winds gradually easing.'}]\n"
     ]
    }
   ],
   "source": [
    "import requests\n",
    "from bs4 import BeautifulSoup\n",
    "import os, glob\n",
    "\n",
    "r = requests.get(\"https://www.bbc.co.uk/weather/2641673\", headers={'User-agent':'Mozilla/5.0(X11; Ubuntu; Linux x86_64; rv:61.0) Gecko/20100101 Firefox/61.0'}) \n",
    "c = r.content\n",
    "\n",
    "\n",
    "soup = BeautifulSoup(c, \"html.parser\")\n",
    "\n",
    "all = soup.find_all(\"div\",{\"id\":\"orb-modules\"})\n",
    "all[0].find(\"div\",{\"class\":\"wr-o-tabset__tabs\"}).text\n",
    "                           \n",
    "l=[]\n",
    "\n",
    "for item in all:\n",
    "    d={}\n",
    "    d[\"When\"]=item.find(\"h4\",{\"class\":\"wr-c-text-forecast__summary-title gel-long-primer-bold gs-u-mt+\" }).text\n",
    "    d[\"Temp\"]=item.find(\"span\",{\"class\":\"wr-value--temperature--c\" }).text\n",
    "    d[\"Summary\"]=item.find(\"p\",{\"class\":\"wr-c-text-forecast__summary-text gel-long-primer gs-u-mt-\" }).text\n",
    "    \n",
    "    l.append(d)\n",
    "  \n",
    "print(l)\n",
    "\n"
   ]
  },
  {
   "cell_type": "code",
   "execution_count": null,
   "metadata": {},
   "outputs": [],
   "source": []
  }
 ],
 "metadata": {
  "kernelspec": {
   "display_name": "Python 3",
   "language": "python",
   "name": "python3"
  },
  "language_info": {
   "codemirror_mode": {
    "name": "ipython",
    "version": 3
   },
   "file_extension": ".py",
   "mimetype": "text/x-python",
   "name": "python",
   "nbconvert_exporter": "python",
   "pygments_lexer": "ipython3",
   "version": "3.7.6"
  }
 },
 "nbformat": 4,
 "nbformat_minor": 4
}
